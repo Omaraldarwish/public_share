{
 "cells": [
  {
   "cell_type": "code",
   "execution_count": null,
   "metadata": {},
   "outputs": [],
   "source": [
    "from qdrant_client import QdrantClient, models"
   ]
  },
  {
   "cell_type": "code",
   "execution_count": null,
   "metadata": {},
   "outputs": [
    {
     "data": {
      "text/plain": [
       "True"
      ]
     },
     "execution_count": 5,
     "metadata": {},
     "output_type": "execute_result"
    }
   ],
   "source": [
    "client = QdrantClient(\":memory:\")\n",
    "\n",
    "client.create_collection(\n",
    "    \"test\",\n",
    "    vectors_config={},\n",
    "    sparse_vectors_config={\n",
    "        'test-sparse': models.SparseVectorParams(\n",
    "            index=models.SparseIndexParams(\n",
    "                on_disk=False\n",
    "            )\n",
    "        )\n",
    "    }\n",
    ")"
   ]
  },
  {
   "cell_type": "code",
   "execution_count": 6,
   "metadata": {},
   "outputs": [],
   "source": [
    "from sklearn.feature_extraction.text import TfidfVectorizer\n",
    "\n",
    "docs = [\n",
    "    \"This is a document about science: physics, chemistry, biology\",\n",
    "    \"This is a document about arts: painting, sculpture, music\",\n",
    "    \"This is a document about programming: python, c++, java\",\n",
    "]\n",
    "\n",
    "vectorizer = TfidfVectorizer()\n",
    "vectorizer.fit(docs)\n",
    "\n",
    "vectorizer_dense = lambda x: list(vectorizer.transform([x]).toarray().flatten())\n",
    "\n",
    "def vectorizer_dense(text):\n",
    "    svector = vectorizer.transform([text])\n",
    "    return list(svector.indices), list(svector.data)"
   ]
  },
  {
   "cell_type": "code",
   "execution_count": 7,
   "metadata": {},
   "outputs": [
    {
     "data": {
      "text/plain": [
       "([9], [1.0])"
      ]
     },
     "execution_count": 7,
     "metadata": {},
     "output_type": "execute_result"
    }
   ],
   "source": [
    "vectorizer_dense('physics')"
   ]
  },
  {
   "cell_type": "code",
   "execution_count": 8,
   "metadata": {},
   "outputs": [
    {
     "name": "stderr",
     "output_type": "stream",
     "text": [
      "/tmp/ipykernel_58482/324443383.py:3: LangChainDeprecationWarning: The class `QdrantSparseVectorRetriever` was deprecated in LangChain 0.2.16 and will be removed in 0.5.0. Use Qdrant vector store now supports sparse retrievals natively. Use langchain_qdrant.QdrantVectorStore#as_retriever() instead. Reference: https://python.langchain.com/v0.2/docs/integrations/vectorstores/qdrant/#sparse-vector-search instead.\n",
      "  retriever = QdrantSparseVectorRetriever(\n"
     ]
    }
   ],
   "source": [
    "from langchain_community.retrievers import QdrantSparseVectorRetriever\n",
    "\n",
    "retriever = QdrantSparseVectorRetriever(\n",
    "    client=client,\n",
    "    collection_name=\"test\",\n",
    "    sparse_vector_name=\"test-sparse\",\n",
    "    sparse_encoder=vectorizer_dense\n",
    ")"
   ]
  },
  {
   "cell_type": "code",
   "execution_count": 9,
   "metadata": {},
   "outputs": [
    {
     "data": {
      "text/plain": [
       "['4ca37085d5174ee391453724c3d9207c',\n",
       " '69fe84271caa4903ad785f6a04878196',\n",
       " '80a205fe9bca4a268dd1285bc4ce1402']"
      ]
     },
     "execution_count": 9,
     "metadata": {},
     "output_type": "execute_result"
    }
   ],
   "source": [
    "retriever.add_texts(\n",
    "    texts=docs,\n",
    "    # ids=range(len(docs))\n",
    ")"
   ]
  },
  {
   "cell_type": "code",
   "execution_count": 10,
   "metadata": {},
   "outputs": [
    {
     "data": {
      "text/plain": [
       "[Document(metadata={'_id': '4ca37085d5174ee391453724c3d9207c', '_collection_name': 'test'}, page_content='This is a document about science: physics, chemistry, biology')]"
      ]
     },
     "execution_count": 10,
     "metadata": {},
     "output_type": "execute_result"
    }
   ],
   "source": [
    "retriever.invoke(\"physics\")"
   ]
  },
  {
   "cell_type": "code",
   "execution_count": 11,
   "metadata": {},
   "outputs": [
    {
     "data": {
      "text/plain": [
       "['950d0ecc21b841d48aebf99d065427bf']"
      ]
     },
     "execution_count": 11,
     "metadata": {},
     "output_type": "execute_result"
    }
   ],
   "source": [
    "retriever.add_texts(texts=[\"Black holes are a mystery, they are a fascinating field of physics.\"])"
   ]
  },
  {
   "cell_type": "code",
   "execution_count": 12,
   "metadata": {},
   "outputs": [
    {
     "data": {
      "text/plain": [
       "[Document(metadata={'_id': '950d0ecc21b841d48aebf99d065427bf', '_collection_name': 'test'}, page_content='Black holes are a mystery, they are a fascinating field of physics.'),\n",
       " Document(metadata={'_id': '4ca37085d5174ee391453724c3d9207c', '_collection_name': 'test'}, page_content='This is a document about science: physics, chemistry, biology')]"
      ]
     },
     "execution_count": 12,
     "metadata": {},
     "output_type": "execute_result"
    }
   ],
   "source": [
    "retriever.invoke(\"physics\")"
   ]
  }
 ],
 "metadata": {
  "kernelspec": {
   "display_name": "app",
   "language": "python",
   "name": "python3"
  },
  "language_info": {
   "codemirror_mode": {
    "name": "ipython",
    "version": 3
   },
   "file_extension": ".py",
   "mimetype": "text/x-python",
   "name": "python",
   "nbconvert_exporter": "python",
   "pygments_lexer": "ipython3",
   "version": "3.10.14"
  }
 },
 "nbformat": 4,
 "nbformat_minor": 2
}
